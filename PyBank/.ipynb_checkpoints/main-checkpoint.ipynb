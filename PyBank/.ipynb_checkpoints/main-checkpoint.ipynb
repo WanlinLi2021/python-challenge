{
 "cells": [
  {
   "cell_type": "code",
   "execution_count": 12,
   "id": "c4d1e6ec",
   "metadata": {},
   "outputs": [],
   "source": [
    "import pandas as pd\n",
    "import numpy as np"
   ]
  },
  {
   "cell_type": "code",
   "execution_count": 36,
   "id": "c5eaa336",
   "metadata": {},
   "outputs": [
    {
     "data": {
      "text/html": [
       "<div>\n",
       "<style scoped>\n",
       "    .dataframe tbody tr th:only-of-type {\n",
       "        vertical-align: middle;\n",
       "    }\n",
       "\n",
       "    .dataframe tbody tr th {\n",
       "        vertical-align: top;\n",
       "    }\n",
       "\n",
       "    .dataframe thead th {\n",
       "        text-align: right;\n",
       "    }\n",
       "</style>\n",
       "<table border=\"1\" class=\"dataframe\">\n",
       "  <thead>\n",
       "    <tr style=\"text-align: right;\">\n",
       "      <th></th>\n",
       "      <th>Date</th>\n",
       "      <th>Profit/Losses</th>\n",
       "    </tr>\n",
       "  </thead>\n",
       "  <tbody>\n",
       "    <tr>\n",
       "      <th>0</th>\n",
       "      <td>Jan-2010</td>\n",
       "      <td>867884</td>\n",
       "    </tr>\n",
       "    <tr>\n",
       "      <th>1</th>\n",
       "      <td>Feb-2010</td>\n",
       "      <td>984655</td>\n",
       "    </tr>\n",
       "    <tr>\n",
       "      <th>2</th>\n",
       "      <td>Mar-2010</td>\n",
       "      <td>322013</td>\n",
       "    </tr>\n",
       "    <tr>\n",
       "      <th>3</th>\n",
       "      <td>Apr-2010</td>\n",
       "      <td>-69417</td>\n",
       "    </tr>\n",
       "    <tr>\n",
       "      <th>4</th>\n",
       "      <td>May-2010</td>\n",
       "      <td>310503</td>\n",
       "    </tr>\n",
       "    <tr>\n",
       "      <th>...</th>\n",
       "      <td>...</td>\n",
       "      <td>...</td>\n",
       "    </tr>\n",
       "    <tr>\n",
       "      <th>81</th>\n",
       "      <td>Oct-2016</td>\n",
       "      <td>102685</td>\n",
       "    </tr>\n",
       "    <tr>\n",
       "      <th>82</th>\n",
       "      <td>Nov-2016</td>\n",
       "      <td>795914</td>\n",
       "    </tr>\n",
       "    <tr>\n",
       "      <th>83</th>\n",
       "      <td>Dec-2016</td>\n",
       "      <td>60988</td>\n",
       "    </tr>\n",
       "    <tr>\n",
       "      <th>84</th>\n",
       "      <td>Jan-2017</td>\n",
       "      <td>138230</td>\n",
       "    </tr>\n",
       "    <tr>\n",
       "      <th>85</th>\n",
       "      <td>Feb-2017</td>\n",
       "      <td>671099</td>\n",
       "    </tr>\n",
       "  </tbody>\n",
       "</table>\n",
       "<p>86 rows × 2 columns</p>\n",
       "</div>"
      ],
      "text/plain": [
       "        Date  Profit/Losses\n",
       "0   Jan-2010         867884\n",
       "1   Feb-2010         984655\n",
       "2   Mar-2010         322013\n",
       "3   Apr-2010         -69417\n",
       "4   May-2010         310503\n",
       "..       ...            ...\n",
       "81  Oct-2016         102685\n",
       "82  Nov-2016         795914\n",
       "83  Dec-2016          60988\n",
       "84  Jan-2017         138230\n",
       "85  Feb-2017         671099\n",
       "\n",
       "[86 rows x 2 columns]"
      ]
     },
     "execution_count": 36,
     "metadata": {},
     "output_type": "execute_result"
    }
   ],
   "source": [
    "df = pd.read_csv(\"Resources/budget_data.csv\")\n",
    "df"
   ]
  },
  {
   "cell_type": "code",
   "execution_count": 37,
   "id": "c9465a1e",
   "metadata": {},
   "outputs": [
    {
     "name": "stdout",
     "output_type": "stream",
     "text": [
      "<class 'pandas.core.frame.DataFrame'>\n",
      "RangeIndex: 86 entries, 0 to 85\n",
      "Data columns (total 2 columns):\n",
      " #   Column         Non-Null Count  Dtype \n",
      "---  ------         --------------  ----- \n",
      " 0   Date           86 non-null     object\n",
      " 1   Profit/Losses  86 non-null     int64 \n",
      "dtypes: int64(1), object(1)\n",
      "memory usage: 1.5+ KB\n"
     ]
    }
   ],
   "source": [
    "df.info()"
   ]
  },
  {
   "cell_type": "code",
   "execution_count": 6,
   "id": "588cb311",
   "metadata": {},
   "outputs": [
    {
     "data": {
      "text/plain": [
       "(86, 2)"
      ]
     },
     "execution_count": 6,
     "metadata": {},
     "output_type": "execute_result"
    }
   ],
   "source": [
    "df.shape"
   ]
  },
  {
   "cell_type": "markdown",
   "id": "147b75ab",
   "metadata": {},
   "source": [
    "Calculate the total number of months included in the dataset"
   ]
  },
  {
   "cell_type": "code",
   "execution_count": 7,
   "id": "ce72396a",
   "metadata": {},
   "outputs": [
    {
     "data": {
      "text/plain": [
       "86"
      ]
     },
     "execution_count": 7,
     "metadata": {},
     "output_type": "execute_result"
    }
   ],
   "source": [
    "Total_months = len(df['Date'].unique())\n",
    "Total_months"
   ]
  },
  {
   "cell_type": "markdown",
   "id": "940926e0",
   "metadata": {},
   "source": [
    "Calculate the net total amount of Profit/Losses over the entire period"
   ]
  },
  {
   "cell_type": "code",
   "execution_count": 9,
   "id": "0ae59bcb",
   "metadata": {},
   "outputs": [
    {
     "data": {
      "text/plain": [
       "38382578"
      ]
     },
     "execution_count": 9,
     "metadata": {},
     "output_type": "execute_result"
    }
   ],
   "source": [
    "total = sum(df['Profit/Losses'])\n",
    "total"
   ]
  },
  {
   "cell_type": "markdown",
   "id": "5b3bc640",
   "metadata": {},
   "source": [
    "Calculate the average of the changes in Profit/Losses over the entire period"
   ]
  },
  {
   "cell_type": "code",
   "execution_count": 38,
   "id": "1f4f2f6c",
   "metadata": {},
   "outputs": [
    {
     "data": {
      "text/plain": [
       "0     Jan-2010\n",
       "1     Feb-2010\n",
       "2     Mar-2010\n",
       "3     Apr-2010\n",
       "4     May-2010\n",
       "        ...   \n",
       "81    Oct-2016\n",
       "82    Nov-2016\n",
       "83    Dec-2016\n",
       "84    Jan-2017\n",
       "85    Feb-2017\n",
       "Name: Date, Length: 86, dtype: object"
      ]
     },
     "execution_count": 38,
     "metadata": {},
     "output_type": "execute_result"
    }
   ],
   "source": [
    "df.Date"
   ]
  },
  {
   "cell_type": "code",
   "execution_count": 42,
   "id": "200297e3",
   "metadata": {},
   "outputs": [],
   "source": [
    "df_sorted[\"Date\"]= pd.to_datetime(df.Date, format='%b-%Y')\n",
    "df_sorted.sort_values(\"Date\", inplace=True)"
   ]
  },
  {
   "cell_type": "code",
   "execution_count": 43,
   "id": "9ae8ce80",
   "metadata": {},
   "outputs": [
    {
     "name": "stdout",
     "output_type": "stream",
     "text": [
      "<class 'pandas.core.frame.DataFrame'>\n",
      "Int64Index: 86 entries, 0 to 85\n",
      "Data columns (total 2 columns):\n",
      " #   Column         Non-Null Count  Dtype         \n",
      "---  ------         --------------  -----         \n",
      " 0   Date           86 non-null     datetime64[ns]\n",
      " 1   Profit/Losses  86 non-null     int64         \n",
      "dtypes: datetime64[ns](1), int64(1)\n",
      "memory usage: 2.0 KB\n"
     ]
    }
   ],
   "source": [
    "df_sorted.info()"
   ]
  },
  {
   "cell_type": "code",
   "execution_count": 44,
   "id": "2b7c405c",
   "metadata": {},
   "outputs": [
    {
     "data": {
      "text/html": [
       "<div>\n",
       "<style scoped>\n",
       "    .dataframe tbody tr th:only-of-type {\n",
       "        vertical-align: middle;\n",
       "    }\n",
       "\n",
       "    .dataframe tbody tr th {\n",
       "        vertical-align: top;\n",
       "    }\n",
       "\n",
       "    .dataframe thead th {\n",
       "        text-align: right;\n",
       "    }\n",
       "</style>\n",
       "<table border=\"1\" class=\"dataframe\">\n",
       "  <thead>\n",
       "    <tr style=\"text-align: right;\">\n",
       "      <th></th>\n",
       "      <th>Date</th>\n",
       "      <th>Profit/Losses</th>\n",
       "    </tr>\n",
       "  </thead>\n",
       "  <tbody>\n",
       "    <tr>\n",
       "      <th>0</th>\n",
       "      <td>2010-01-01</td>\n",
       "      <td>867884</td>\n",
       "    </tr>\n",
       "    <tr>\n",
       "      <th>1</th>\n",
       "      <td>2010-02-01</td>\n",
       "      <td>984655</td>\n",
       "    </tr>\n",
       "    <tr>\n",
       "      <th>2</th>\n",
       "      <td>2010-03-01</td>\n",
       "      <td>322013</td>\n",
       "    </tr>\n",
       "    <tr>\n",
       "      <th>3</th>\n",
       "      <td>2010-04-01</td>\n",
       "      <td>-69417</td>\n",
       "    </tr>\n",
       "    <tr>\n",
       "      <th>4</th>\n",
       "      <td>2010-05-01</td>\n",
       "      <td>310503</td>\n",
       "    </tr>\n",
       "    <tr>\n",
       "      <th>...</th>\n",
       "      <td>...</td>\n",
       "      <td>...</td>\n",
       "    </tr>\n",
       "    <tr>\n",
       "      <th>81</th>\n",
       "      <td>2016-10-01</td>\n",
       "      <td>102685</td>\n",
       "    </tr>\n",
       "    <tr>\n",
       "      <th>82</th>\n",
       "      <td>2016-11-01</td>\n",
       "      <td>795914</td>\n",
       "    </tr>\n",
       "    <tr>\n",
       "      <th>83</th>\n",
       "      <td>2016-12-01</td>\n",
       "      <td>60988</td>\n",
       "    </tr>\n",
       "    <tr>\n",
       "      <th>84</th>\n",
       "      <td>2017-01-01</td>\n",
       "      <td>138230</td>\n",
       "    </tr>\n",
       "    <tr>\n",
       "      <th>85</th>\n",
       "      <td>2017-02-01</td>\n",
       "      <td>671099</td>\n",
       "    </tr>\n",
       "  </tbody>\n",
       "</table>\n",
       "<p>86 rows × 2 columns</p>\n",
       "</div>"
      ],
      "text/plain": [
       "         Date  Profit/Losses\n",
       "0  2010-01-01         867884\n",
       "1  2010-02-01         984655\n",
       "2  2010-03-01         322013\n",
       "3  2010-04-01         -69417\n",
       "4  2010-05-01         310503\n",
       "..        ...            ...\n",
       "81 2016-10-01         102685\n",
       "82 2016-11-01         795914\n",
       "83 2016-12-01          60988\n",
       "84 2017-01-01         138230\n",
       "85 2017-02-01         671099\n",
       "\n",
       "[86 rows x 2 columns]"
      ]
     },
     "execution_count": 44,
     "metadata": {},
     "output_type": "execute_result"
    }
   ],
   "source": [
    "# sorte the data frame ascending by date \n",
    "\n",
    "df_sorted"
   ]
  },
  {
   "cell_type": "code",
   "execution_count": 45,
   "id": "2a75c64f",
   "metadata": {},
   "outputs": [
    {
     "data": {
      "text/html": [
       "<div>\n",
       "<style scoped>\n",
       "    .dataframe tbody tr th:only-of-type {\n",
       "        vertical-align: middle;\n",
       "    }\n",
       "\n",
       "    .dataframe tbody tr th {\n",
       "        vertical-align: top;\n",
       "    }\n",
       "\n",
       "    .dataframe thead th {\n",
       "        text-align: right;\n",
       "    }\n",
       "</style>\n",
       "<table border=\"1\" class=\"dataframe\">\n",
       "  <thead>\n",
       "    <tr style=\"text-align: right;\">\n",
       "      <th></th>\n",
       "      <th>Profit/Losses</th>\n",
       "    </tr>\n",
       "    <tr>\n",
       "      <th>Date</th>\n",
       "      <th></th>\n",
       "    </tr>\n",
       "  </thead>\n",
       "  <tbody>\n",
       "    <tr>\n",
       "      <th>2010-01-01</th>\n",
       "      <td>NaN</td>\n",
       "    </tr>\n",
       "    <tr>\n",
       "      <th>2010-02-01</th>\n",
       "      <td>116771.0</td>\n",
       "    </tr>\n",
       "    <tr>\n",
       "      <th>2010-03-01</th>\n",
       "      <td>-662642.0</td>\n",
       "    </tr>\n",
       "    <tr>\n",
       "      <th>2010-04-01</th>\n",
       "      <td>-391430.0</td>\n",
       "    </tr>\n",
       "    <tr>\n",
       "      <th>2010-05-01</th>\n",
       "      <td>379920.0</td>\n",
       "    </tr>\n",
       "    <tr>\n",
       "      <th>...</th>\n",
       "      <td>...</td>\n",
       "    </tr>\n",
       "    <tr>\n",
       "      <th>2016-10-01</th>\n",
       "      <td>-665765.0</td>\n",
       "    </tr>\n",
       "    <tr>\n",
       "      <th>2016-11-01</th>\n",
       "      <td>693229.0</td>\n",
       "    </tr>\n",
       "    <tr>\n",
       "      <th>2016-12-01</th>\n",
       "      <td>-734926.0</td>\n",
       "    </tr>\n",
       "    <tr>\n",
       "      <th>2017-01-01</th>\n",
       "      <td>77242.0</td>\n",
       "    </tr>\n",
       "    <tr>\n",
       "      <th>2017-02-01</th>\n",
       "      <td>532869.0</td>\n",
       "    </tr>\n",
       "  </tbody>\n",
       "</table>\n",
       "<p>86 rows × 1 columns</p>\n",
       "</div>"
      ],
      "text/plain": [
       "            Profit/Losses\n",
       "Date                     \n",
       "2010-01-01            NaN\n",
       "2010-02-01       116771.0\n",
       "2010-03-01      -662642.0\n",
       "2010-04-01      -391430.0\n",
       "2010-05-01       379920.0\n",
       "...                   ...\n",
       "2016-10-01      -665765.0\n",
       "2016-11-01       693229.0\n",
       "2016-12-01      -734926.0\n",
       "2017-01-01        77242.0\n",
       "2017-02-01       532869.0\n",
       "\n",
       "[86 rows x 1 columns]"
      ]
     },
     "execution_count": 45,
     "metadata": {},
     "output_type": "execute_result"
    }
   ],
   "source": [
    "df_change = df_sorted.set_index('Date').diff()\n",
    "df_change"
   ]
  },
  {
   "cell_type": "code",
   "execution_count": 46,
   "id": "d5d731fc",
   "metadata": {},
   "outputs": [
    {
     "data": {
      "text/plain": [
       "-2315.12"
      ]
     },
     "execution_count": 46,
     "metadata": {},
     "output_type": "execute_result"
    }
   ],
   "source": [
    "mean_change = np.average(df_change['Profit/Losses'][1:])\n",
    "mean_change = round(mean_change,2)\n",
    "mean_change"
   ]
  },
  {
   "cell_type": "markdown",
   "id": "0e4cbcc5",
   "metadata": {},
   "source": [
    "Greatest Increase in Profits"
   ]
  },
  {
   "cell_type": "code",
   "execution_count": 60,
   "id": "0cfb9088",
   "metadata": {},
   "outputs": [
    {
     "data": {
      "text/plain": [
       "1926159"
      ]
     },
     "execution_count": 60,
     "metadata": {},
     "output_type": "execute_result"
    }
   ],
   "source": [
    "max_increase = np.max(df_change['Profit/Losses'])\n",
    "max_increase = round(max_increase)\n",
    "max_increase"
   ]
  },
  {
   "cell_type": "markdown",
   "id": "c69e67b2",
   "metadata": {},
   "source": [
    "Greatest Decrease in Profits"
   ]
  },
  {
   "cell_type": "code",
   "execution_count": 59,
   "id": "1f5908d0",
   "metadata": {},
   "outputs": [
    {
     "data": {
      "text/plain": [
       "-2196167"
      ]
     },
     "execution_count": 59,
     "metadata": {},
     "output_type": "execute_result"
    }
   ],
   "source": [
    "great_decrease = round(np.min(df_change['Profit/Losses']))\n",
    "great_decrease"
   ]
  },
  {
   "cell_type": "markdown",
   "id": "fb2244d2-6053-4c3b-81ce-e6970eefe18c",
   "metadata": {},
   "source": [
    "# Solution 2:"
   ]
  },
  {
   "cell_type": "code",
   "execution_count": 35,
   "id": "6830af65-7a94-44ad-abe6-1b2ebaa4a8ca",
   "metadata": {},
   "outputs": [],
   "source": [
    "import csv\n",
    "from pathlib import Path\n",
    "import datetime"
   ]
  },
  {
   "cell_type": "code",
   "execution_count": 2,
   "id": "0fcfed86-776b-4c93-a9f9-a678e9ae8050",
   "metadata": {},
   "outputs": [],
   "source": [
    "budget_path = Path(\"./Resources/budget_data.csv\")"
   ]
  },
  {
   "cell_type": "code",
   "execution_count": 27,
   "id": "48828f32-b0db-4891-83be-e674d8c7f70b",
   "metadata": {},
   "outputs": [],
   "source": [
    "# convert string to a date in Python\n",
    "def to_datetime_format(date_str):\n",
    "    date_time_obj = datetime.datetime.strptime(date_str, '%b-%Y')\n",
    "    return date_time_obj.date()"
   ]
  },
  {
   "cell_type": "code",
   "execution_count": 49,
   "id": "a7e4be21-dcbb-4952-bd2d-52883dfbc79b",
   "metadata": {},
   "outputs": [],
   "source": [
    "# initiate a dictionary for budget data\n",
    "budget_dct = {}\n",
    "with open(budget_path,\"r\") as f:\n",
    "    f_reader = csv.DictReader(f,delimiter=\",\")\n",
    "    for row in f_reader:\n",
    "        #print(to_datetime_format(row['Date']),row['Profit/Losses'])   \n",
    "        budget_dct[to_datetime_format(row['Date'])] = int(row['Profit/Losses'])   # convert strings to date format and integer format separately"
   ]
  },
  {
   "cell_type": "code",
   "execution_count": 50,
   "id": "ec3332e7-4151-4db5-8179-0eafd837dee6",
   "metadata": {},
   "outputs": [
    {
     "name": "stdout",
     "output_type": "stream",
     "text": [
      "{datetime.date(2010, 1, 1): 867884, datetime.date(2010, 2, 1): 984655, datetime.date(2010, 3, 1): 322013, datetime.date(2010, 4, 1): -69417, datetime.date(2010, 5, 1): 310503, datetime.date(2010, 6, 1): 522857, datetime.date(2010, 7, 1): 1033096, datetime.date(2010, 8, 1): 604885, datetime.date(2010, 9, 1): -216386, datetime.date(2010, 10, 1): 477532, datetime.date(2010, 11, 1): 893810, datetime.date(2010, 12, 1): -80353, datetime.date(2011, 1, 1): 779806, datetime.date(2011, 2, 1): -335203, datetime.date(2011, 3, 1): 697845, datetime.date(2011, 4, 1): 793163, datetime.date(2011, 5, 1): 485070, datetime.date(2011, 6, 1): 584122, datetime.date(2011, 7, 1): 62729, datetime.date(2011, 8, 1): 668179, datetime.date(2011, 9, 1): 899906, datetime.date(2011, 10, 1): 834719, datetime.date(2011, 11, 1): 132003, datetime.date(2011, 12, 1): 309978, datetime.date(2012, 1, 1): -755566, datetime.date(2012, 2, 1): 1170593, datetime.date(2012, 3, 1): 252788, datetime.date(2012, 4, 1): 1151518, datetime.date(2012, 5, 1): 817256, datetime.date(2012, 6, 1): 570757, datetime.date(2012, 7, 1): 506702, datetime.date(2012, 8, 1): -1022534, datetime.date(2012, 9, 1): 475062, datetime.date(2012, 10, 1): 779976, datetime.date(2012, 11, 1): 144175, datetime.date(2012, 12, 1): 542494, datetime.date(2013, 1, 1): 359333, datetime.date(2013, 2, 1): 321469, datetime.date(2013, 3, 1): 67780, datetime.date(2013, 4, 1): 471435, datetime.date(2013, 5, 1): 565603, datetime.date(2013, 6, 1): 872480, datetime.date(2013, 7, 1): 789480, datetime.date(2013, 8, 1): 999942, datetime.date(2013, 9, 1): -1196225, datetime.date(2013, 10, 1): 268997, datetime.date(2013, 11, 1): -687986, datetime.date(2013, 12, 1): 1150461, datetime.date(2014, 1, 1): 682458, datetime.date(2014, 2, 1): 617856, datetime.date(2014, 3, 1): 824098, datetime.date(2014, 4, 1): 581943, datetime.date(2014, 5, 1): 132864, datetime.date(2014, 6, 1): 448062, datetime.date(2014, 7, 1): 689161, datetime.date(2014, 8, 1): 800701, datetime.date(2014, 9, 1): 1166643, datetime.date(2014, 10, 1): 947333, datetime.date(2014, 11, 1): 578668, datetime.date(2014, 12, 1): 988505, datetime.date(2015, 1, 1): 1139715, datetime.date(2015, 2, 1): 1029471, datetime.date(2015, 3, 1): 687533, datetime.date(2015, 4, 1): -524626, datetime.date(2015, 5, 1): 158620, datetime.date(2015, 6, 1): 87795, datetime.date(2015, 7, 1): 423389, datetime.date(2015, 8, 1): 840723, datetime.date(2015, 9, 1): 568529, datetime.date(2015, 10, 1): 332067, datetime.date(2015, 11, 1): 989499, datetime.date(2015, 12, 1): 778237, datetime.date(2016, 1, 1): 650000, datetime.date(2016, 2, 1): -1100387, datetime.date(2016, 3, 1): -174946, datetime.date(2016, 4, 1): 757143, datetime.date(2016, 5, 1): 445709, datetime.date(2016, 6, 1): 712961, datetime.date(2016, 7, 1): -1163797, datetime.date(2016, 8, 1): 569899, datetime.date(2016, 9, 1): 768450, datetime.date(2016, 10, 1): 102685, datetime.date(2016, 11, 1): 795914, datetime.date(2016, 12, 1): 60988, datetime.date(2017, 1, 1): 138230, datetime.date(2017, 2, 1): 671099}\n"
     ]
    }
   ],
   "source": [
    "print(budget_dct)"
   ]
  },
  {
   "cell_type": "code",
   "execution_count": 51,
   "id": "510f94ca-b6b9-4a35-bc8e-12a2ed85a2f9",
   "metadata": {},
   "outputs": [
    {
     "name": "stdout",
     "output_type": "stream",
     "text": [
      "{datetime.date(2010, 1, 1): 867884, datetime.date(2010, 2, 1): 984655, datetime.date(2010, 3, 1): 322013, datetime.date(2010, 4, 1): -69417, datetime.date(2010, 5, 1): 310503, datetime.date(2010, 6, 1): 522857, datetime.date(2010, 7, 1): 1033096, datetime.date(2010, 8, 1): 604885, datetime.date(2010, 9, 1): -216386, datetime.date(2010, 10, 1): 477532, datetime.date(2010, 11, 1): 893810, datetime.date(2010, 12, 1): -80353, datetime.date(2011, 1, 1): 779806, datetime.date(2011, 2, 1): -335203, datetime.date(2011, 3, 1): 697845, datetime.date(2011, 4, 1): 793163, datetime.date(2011, 5, 1): 485070, datetime.date(2011, 6, 1): 584122, datetime.date(2011, 7, 1): 62729, datetime.date(2011, 8, 1): 668179, datetime.date(2011, 9, 1): 899906, datetime.date(2011, 10, 1): 834719, datetime.date(2011, 11, 1): 132003, datetime.date(2011, 12, 1): 309978, datetime.date(2012, 1, 1): -755566, datetime.date(2012, 2, 1): 1170593, datetime.date(2012, 3, 1): 252788, datetime.date(2012, 4, 1): 1151518, datetime.date(2012, 5, 1): 817256, datetime.date(2012, 6, 1): 570757, datetime.date(2012, 7, 1): 506702, datetime.date(2012, 8, 1): -1022534, datetime.date(2012, 9, 1): 475062, datetime.date(2012, 10, 1): 779976, datetime.date(2012, 11, 1): 144175, datetime.date(2012, 12, 1): 542494, datetime.date(2013, 1, 1): 359333, datetime.date(2013, 2, 1): 321469, datetime.date(2013, 3, 1): 67780, datetime.date(2013, 4, 1): 471435, datetime.date(2013, 5, 1): 565603, datetime.date(2013, 6, 1): 872480, datetime.date(2013, 7, 1): 789480, datetime.date(2013, 8, 1): 999942, datetime.date(2013, 9, 1): -1196225, datetime.date(2013, 10, 1): 268997, datetime.date(2013, 11, 1): -687986, datetime.date(2013, 12, 1): 1150461, datetime.date(2014, 1, 1): 682458, datetime.date(2014, 2, 1): 617856, datetime.date(2014, 3, 1): 824098, datetime.date(2014, 4, 1): 581943, datetime.date(2014, 5, 1): 132864, datetime.date(2014, 6, 1): 448062, datetime.date(2014, 7, 1): 689161, datetime.date(2014, 8, 1): 800701, datetime.date(2014, 9, 1): 1166643, datetime.date(2014, 10, 1): 947333, datetime.date(2014, 11, 1): 578668, datetime.date(2014, 12, 1): 988505, datetime.date(2015, 1, 1): 1139715, datetime.date(2015, 2, 1): 1029471, datetime.date(2015, 3, 1): 687533, datetime.date(2015, 4, 1): -524626, datetime.date(2015, 5, 1): 158620, datetime.date(2015, 6, 1): 87795, datetime.date(2015, 7, 1): 423389, datetime.date(2015, 8, 1): 840723, datetime.date(2015, 9, 1): 568529, datetime.date(2015, 10, 1): 332067, datetime.date(2015, 11, 1): 989499, datetime.date(2015, 12, 1): 778237, datetime.date(2016, 1, 1): 650000, datetime.date(2016, 2, 1): -1100387, datetime.date(2016, 3, 1): -174946, datetime.date(2016, 4, 1): 757143, datetime.date(2016, 5, 1): 445709, datetime.date(2016, 6, 1): 712961, datetime.date(2016, 7, 1): -1163797, datetime.date(2016, 8, 1): 569899, datetime.date(2016, 9, 1): 768450, datetime.date(2016, 10, 1): 102685, datetime.date(2016, 11, 1): 795914, datetime.date(2016, 12, 1): 60988, datetime.date(2017, 1, 1): 138230, datetime.date(2017, 2, 1): 671099}\n"
     ]
    }
   ],
   "source": [
    "# sort dictionary by key\n",
    "budget_sorted = dict(sorted(budget_dct.items(), key = lambda item: item[0]))\n",
    "print(budget_sorted)"
   ]
  },
  {
   "cell_type": "code",
   "execution_count": 52,
   "id": "543709d6-80c6-4a9e-9f4f-f6b124cbe972",
   "metadata": {},
   "outputs": [
    {
     "data": {
      "text/plain": [
       "86"
      ]
     },
     "execution_count": 52,
     "metadata": {},
     "output_type": "execute_result"
    }
   ],
   "source": [
    "#Total Months:\n",
    "len(budget_sorted)"
   ]
  },
  {
   "cell_type": "code",
   "execution_count": 53,
   "id": "3eadd2c0-358d-4519-86cc-1215d54f0a8f",
   "metadata": {},
   "outputs": [
    {
     "data": {
      "text/plain": [
       "38382578"
      ]
     },
     "execution_count": 53,
     "metadata": {},
     "output_type": "execute_result"
    }
   ],
   "source": [
    "# Total\n",
    "sum(budget_sorted.values())"
   ]
  },
  {
   "cell_type": "code",
   "execution_count": 61,
   "id": "a7db77a2-515d-4bec-a797-d00a02c4756b",
   "metadata": {},
   "outputs": [
    {
     "name": "stdout",
     "output_type": "stream",
     "text": [
      "[116771, -662642, -391430, 379920, 212354, 510239, -428211, -821271, 693918, 416278, -974163, 860159, -1115009, 1033048, 95318, -308093, 99052, -521393, 605450, 231727, -65187, -702716, 177975, -1065544, 1926159, -917805, 898730, -334262, -246499, -64055, -1529236, 1497596, 304914, -635801, 398319, -183161, -37864, -253689, 403655, 94168, 306877, -83000, 210462, -2196167, 1465222, -956983, 1838447, -468003, -64602, 206242, -242155, -449079, 315198, 241099, 111540, 365942, -219310, -368665, 409837, 151210, -110244, -341938, -1212159, 683246, -70825, 335594, 417334, -272194, -236462, 657432, -211262, -128237, -1750387, 925441, 932089, -311434, 267252, -1876758, 1733696, 198551, -665765, 693229, -734926, 77242, 532869]\n"
     ]
    }
   ],
   "source": [
    "previous = list(budget_sorted.values())[:-1]\n",
    "current = list(budget_sorted.values())[1:]\n",
    "change = [y-x for y, x in zip(current, previous)]\n",
    "print(change)"
   ]
  },
  {
   "cell_type": "code",
   "execution_count": 64,
   "id": "7b136438-e72b-4e2a-8b9b-26d258a4d052",
   "metadata": {},
   "outputs": [
    {
     "data": {
      "text/plain": [
       "-2315.12"
      ]
     },
     "execution_count": 64,
     "metadata": {},
     "output_type": "execute_result"
    }
   ],
   "source": [
    "#  Average  Change:\n",
    "round(sum(change)/len(change),2)"
   ]
  },
  {
   "cell_type": "code",
   "execution_count": 66,
   "id": "3ddbbc19-0adc-491f-a718-84e12ca5785f",
   "metadata": {},
   "outputs": [
    {
     "data": {
      "text/plain": [
       "1926159"
      ]
     },
     "execution_count": 66,
     "metadata": {},
     "output_type": "execute_result"
    }
   ],
   "source": [
    "#Greatest Increase in Profits:\n",
    "max(change)"
   ]
  },
  {
   "cell_type": "code",
   "execution_count": 78,
   "id": "50906925-7748-4c31-bd86-2031c400bb2a",
   "metadata": {},
   "outputs": [
    {
     "data": {
      "text/plain": [
       "24"
      ]
     },
     "execution_count": 78,
     "metadata": {},
     "output_type": "execute_result"
    }
   ],
   "source": [
    "# get date\n",
    "index = change.index(max(change))\n",
    "index"
   ]
  },
  {
   "cell_type": "code",
   "execution_count": 83,
   "id": "063aa53d-18f7-4dec-9552-8918c0a1cbc2",
   "metadata": {},
   "outputs": [
    {
     "data": {
      "text/plain": [
       "datetime.date(2012, 2, 1)"
      ]
     },
     "execution_count": 83,
     "metadata": {},
     "output_type": "execute_result"
    }
   ],
   "source": [
    "date_time = list(budget_sorted.keys())[index + 1]\n",
    "date_time"
   ]
  },
  {
   "cell_type": "code",
   "execution_count": null,
   "id": "c9ad20df-fd7c-436b-a5c2-8507690a4427",
   "metadata": {},
   "outputs": [],
   "source": [
    "date_string = date_time"
   ]
  },
  {
   "cell_type": "code",
   "execution_count": 86,
   "id": "0a35f569-7289-4c11-8067-e41ad1fdcc11",
   "metadata": {},
   "outputs": [
    {
     "data": {
      "text/plain": [
       "'Feb-2012'"
      ]
     },
     "execution_count": 86,
     "metadata": {},
     "output_type": "execute_result"
    }
   ],
   "source": [
    "date_time.strftime('%b') + '-' + date_time.strftime('%Y')"
   ]
  },
  {
   "cell_type": "code",
   "execution_count": 87,
   "id": "e7680026-22a4-4c67-9da6-9522b5f89f0a",
   "metadata": {},
   "outputs": [],
   "source": [
    "def date_to_string(date_time):\n",
    "    return date_time.strftime('%b') + '-' + date_time.strftime('%Y')"
   ]
  },
  {
   "cell_type": "code",
   "execution_count": null,
   "id": "149e7272-65de-4358-8755-17726e4262fa",
   "metadata": {},
   "outputs": [],
   "source": []
  },
  {
   "cell_type": "code",
   "execution_count": null,
   "id": "66888388-a53d-451f-b9fd-cf306bc9effc",
   "metadata": {},
   "outputs": [],
   "source": []
  },
  {
   "cell_type": "code",
   "execution_count": 67,
   "id": "b5d683a4-2a5f-44ba-9eb8-d2a553ac3a87",
   "metadata": {},
   "outputs": [
    {
     "data": {
      "text/plain": [
       "-2196167"
      ]
     },
     "execution_count": 67,
     "metadata": {},
     "output_type": "execute_result"
    }
   ],
   "source": [
    "#Greatest Decrease in Profits\n",
    "min(change)"
   ]
  },
  {
   "cell_type": "code",
   "execution_count": null,
   "id": "36ec41bc-b769-4e1e-b614-0eee347bffe9",
   "metadata": {},
   "outputs": [],
   "source": []
  },
  {
   "cell_type": "code",
   "execution_count": null,
   "id": "ebea47de-c701-4b6a-bcb2-965dee93b96f",
   "metadata": {},
   "outputs": [],
   "source": []
  },
  {
   "cell_type": "code",
   "execution_count": 102,
   "id": "aede5233-63e1-4e74-b740-8640cf88de37",
   "metadata": {},
   "outputs": [],
   "source": [
    "def print_write_result(result,output_file):\n",
    "    with open(output_file,'a') as f:\n",
    "        f.write(result + \"\\n \\n\")\n",
    "        print(result)\n",
    "    "
   ]
  },
  {
   "cell_type": "code",
   "execution_count": 103,
   "id": "7809f7c1-a642-4f69-8a1f-58534467465e",
   "metadata": {},
   "outputs": [
    {
     "name": "stdout",
     "output_type": "stream",
     "text": [
      "Financial Analysis \n",
      " \n",
      "---------------------------- \n",
      "\n",
      "Total Months: 86\n",
      "Total: $38382578\n",
      "Average  Change: $-2315.12\n",
      "Greatest Increase in Profits: Feb-2012 ($1926159)\n",
      "Greatest Decrease in Profits: Sep-2013 ($-2196167)\n"
     ]
    }
   ],
   "source": [
    "output_file = Path(\"./budget_report.txt\")\n",
    "\n",
    "header = \"Financial Analysis \\n \\n---------------------------- \\n\"\n",
    "print_write_result(header,output_file)\n",
    "\n",
    "month_num = f\"Total Months: {len(budget_sorted)}\"\n",
    "print_write_result(month_num,output_file)\n",
    "\n",
    "\n",
    "total = f\"Total: ${sum(budget_sorted.values())}\"\n",
    "print_write_result(total,output_file)\n",
    "\n",
    "mean_change = f\"Average  Change: ${round(sum(change)/len(change),2)}\"\n",
    "print_write_result(mean_change,output_file)\n",
    "\n",
    "\n",
    "increase = max(change)\n",
    "index = change.index(increase)\n",
    "date_time = list(budget_sorted.keys())[index + 1]\n",
    "str_date_time = date_to_string(date_time)\n",
    "increase_text = f\"Greatest Increase in Profits: {str_date_time} (${increase})\"\n",
    "print_write_result(increase_text,output_file)\n",
    "\n",
    "\n",
    "decrease = min(change)\n",
    "index = change.index(decrease)\n",
    "date_time = list(budget_sorted.keys())[index + 1]\n",
    "str_date_time = date_to_string(datet_ime)\n",
    "decrease_text = f\"Greatest Decrease in Profits: {str_date_time} (${decrease})\"\n",
    "print_write_result(decrease_text,output_file)\n",
    "\n"
   ]
  },
  {
   "cell_type": "code",
   "execution_count": null,
   "id": "31df27ac-d573-4a16-9a0c-ac48aada8059",
   "metadata": {},
   "outputs": [],
   "source": []
  },
  {
   "cell_type": "code",
   "execution_count": null,
   "id": "e81b14f0-5b66-477d-a53a-f75e3e1ac307",
   "metadata": {},
   "outputs": [],
   "source": []
  },
  {
   "cell_type": "code",
   "execution_count": 76,
   "id": "2f17adea-69ac-4954-9f09-a201ab633d2d",
   "metadata": {},
   "outputs": [
    {
     "data": {
      "text/plain": [
       "'Total Months: 86'"
      ]
     },
     "execution_count": 76,
     "metadata": {},
     "output_type": "execute_result"
    }
   ],
   "source": [
    "result"
   ]
  },
  {
   "cell_type": "code",
   "execution_count": null,
   "id": "9f378cc9-8946-48c6-8ade-7c36ec1d7cfa",
   "metadata": {},
   "outputs": [],
   "source": []
  },
  {
   "cell_type": "markdown",
   "id": "9b409eee-c999-4398-9334-e90697a8b12c",
   "metadata": {},
   "source": [
    "with open(budget_path,\"r\") as f:\n",
    "    f_reader = csv.DictReader(f,delimiter=\",\")\n",
    "    for dct in map(dict, f_reader):\n",
    "        print(dct)"
   ]
  },
  {
   "cell_type": "code",
   "execution_count": null,
   "id": "4238b25a-5855-4852-b23d-232e7d892b5c",
   "metadata": {},
   "outputs": [],
   "source": []
  },
  {
   "cell_type": "code",
   "execution_count": 94,
   "id": "3cedfee7-de96-48f2-b162-9e562cd77d82",
   "metadata": {},
   "outputs": [
    {
     "name": "stdout",
     "output_type": "stream",
     "text": [
      "Financial Analysis \n",
      " \n",
      "---------------------------- \n",
      "\n"
     ]
    }
   ],
   "source": [
    "print(\"Financial Analysis \\n \\n---------------------------- \\n\")"
   ]
  },
  {
   "cell_type": "code",
   "execution_count": null,
   "id": "749bf0d3-eaa4-4024-9722-4471cdf2e762",
   "metadata": {},
   "outputs": [],
   "source": []
  }
 ],
 "metadata": {
  "kernelspec": {
   "display_name": "Python 3",
   "language": "python",
   "name": "python3"
  },
  "language_info": {
   "codemirror_mode": {
    "name": "ipython",
    "version": 3
   },
   "file_extension": ".py",
   "mimetype": "text/x-python",
   "name": "python",
   "nbconvert_exporter": "python",
   "pygments_lexer": "ipython3",
   "version": "3.8.8"
  }
 },
 "nbformat": 4,
 "nbformat_minor": 5
}
